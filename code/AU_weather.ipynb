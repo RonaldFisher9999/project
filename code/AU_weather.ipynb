{
 "cells": [
  {
   "cell_type": "markdown",
   "id": "0e075f21",
   "metadata": {},
   "source": [
    "# 가장 날씨가 좋은 호주의 도시"
   ]
  },
  {
   "cell_type": "markdown",
   "id": "e615f17c",
   "metadata": {},
   "source": [
    "## 문제 설정"
   ]
  },
  {
   "cell_type": "markdown",
   "id": "2436361d",
   "metadata": {},
   "source": [
    "### 고객 설정\n",
    "- 새롭게 호주 관광 프로그램을 기획하는 국내 여행사\n",
    "- 특정 도시의 날씨가 좋다는 점을 어필"
   ]
  },
  {
   "cell_type": "markdown",
   "id": "2407b037",
   "metadata": {},
   "source": [
    "### 좋은 날씨?\n",
    "- '좋은 날씨'는 주관적\n",
    "- 시기에 달라질 수도 있음\n",
    "- 무엇보다 한국 고객들에게 설득력이 있어야 함\n",
    "- 따라서 평균적인 한국의 날씨와 비교해 호주 도시들의 날씨 특성 분석\n",
    "- 특히 여름과 겨울을 비교하면 남반구의 호주 특성상 더 극명한 대조 가능"
   ]
  },
  {
   "cell_type": "markdown",
   "id": "22b8f439",
   "metadata": {},
   "source": [
    "## 기후학적 구분"
   ]
  },
  {
   "cell_type": "markdown",
   "id": "82d3582a",
   "metadata": {},
   "source": [
    "### 멜버른 (Melbourne)\n",
    "- 호주 남동부 위치\n",
    "- 서안 해양성 기후(Cfb)\n",
    "    - 연중 온난\n",
    "        - 최난월 평균 기온 22 미만\n",
    "        - 평균 기온 10 이상인 기간 최소 4개월 이상\n",
    "        - 최한월 평균 기온 0 이상\n",
    "        - 연교차 10-15\n",
    "        - 연 평균 기온 6-13도\n",
    "    - 강수량\n",
    "        - 건기 없음\n",
    "        - 강수량은 지역에 따라 다름 (50-500cm)\n",
    "        - 싸이클론 때때로 발생하지만 강하진 않음\n",
    "        - 구름 많은 날이 자주 있음\n",
    "- 변덕스러움\n",
    "    - 특히 봄 여름에 온도 변화 극심\n",
    "    \n",
    "    "
   ]
  },
  {
   "cell_type": "markdown",
   "id": "e91c5713",
   "metadata": {},
   "source": [
    "### 시드니 (Sydney)"
   ]
  },
  {
   "cell_type": "markdown",
   "id": "e6a33226",
   "metadata": {},
   "source": [
    "### 애들레이드 (Adelaide)"
   ]
  },
  {
   "cell_type": "markdown",
   "id": "33aa3f85",
   "metadata": {},
   "source": [
    "### 브리즈번 (Brisbane)"
   ]
  },
  {
   "cell_type": "markdown",
   "id": "c107f72a",
   "metadata": {},
   "source": [
    "### 퍼스 (Perth)"
   ]
  },
  {
   "cell_type": "code",
   "execution_count": null,
   "id": "8b6496d2",
   "metadata": {},
   "outputs": [],
   "source": []
  },
  {
   "cell_type": "code",
   "execution_count": null,
   "id": "748aae12",
   "metadata": {
    "ExecuteTime": {
     "end_time": "2023-02-05T14:14:56.011493Z",
     "start_time": "2023-02-05T14:14:53.109160Z"
    }
   },
   "outputs": [],
   "source": [
    "# pip install requests\n",
    "# pip install bs4\n",
    "# pip install html_table_parser\n",
    "# pip install numpy\n",
    "# pip install pandas\n",
    "# pip install openpyxl"
   ]
  },
  {
   "cell_type": "code",
   "execution_count": 2,
   "id": "4a60f8c4",
   "metadata": {
    "ExecuteTime": {
     "end_time": "2023-02-06T12:44:37.591892Z",
     "start_time": "2023-02-06T12:44:36.655931Z"
    }
   },
   "outputs": [],
   "source": [
    "import numpy as np\n",
    "import pandas as pd"
   ]
  },
  {
   "cell_type": "code",
   "execution_count": 3,
   "id": "51dc8eba",
   "metadata": {
    "ExecuteTime": {
     "end_time": "2023-02-06T12:44:39.755861Z",
     "start_time": "2023-02-06T12:44:39.261910Z"
    }
   },
   "outputs": [
    {
     "name": "stdout",
     "output_type": "stream",
     "text": [
      "            일자  최저기온(°C)  최고기온(°C)  강우량 (mm)  증발 (mm)  일조 (시간) 최대돌풍방향  순간최대풍속  \\\n",
      "0    1/12/2014      21.1      29.3       0.4     13.2      8.9      N    76.0   \n",
      "1    2/12/2014      16.7      26.1       0.2      7.6     11.2    SSE    41.0   \n",
      "2    3/12/2014      16.5      23.9       0.0      7.0      1.4    WSW    43.0   \n",
      "3    4/12/2014      17.6      27.7       9.2      1.8     11.8    SSE    35.0   \n",
      "4    5/12/2014      17.7      21.4       0.0      6.6      0.1      S    35.0   \n",
      "..         ...       ...       ...       ...      ...      ...    ...     ...   \n",
      "360  27/1/2014      16.9      35.3       NaN      8.0     13.4      N    69.0   \n",
      "361  28/1/2014      24.5      42.0       NaN     20.0     12.9      N    70.0   \n",
      "362  29/1/2014      18.4      25.1       4.6     16.8      7.7    SSW    46.0   \n",
      "363  30/1/2014      16.0      30.0       0.0      6.8     10.5      S    31.0   \n",
      "364  31/1/2014      18.6      27.0       0.0      7.2     10.8      S    35.0   \n",
      "\n",
      "       최대돌풍시간  9am 기온 (°C)  ...  9am 운량 (oktas)  9am 풍향 9am 풍속 (km/h)  \\\n",
      "0    02:40:00         25.6  ...             7.0     NNW          30.0   \n",
      "1    14:40:00         19.1  ...             6.0    Calm           NaN   \n",
      "2    20:45:00         18.3  ...             8.0      NW           7.0   \n",
      "3    13:10:00         20.8  ...             7.0      SE           7.0   \n",
      "4    14:26:00         19.3  ...             8.0     SSW          15.0   \n",
      "..        ...          ...  ...             ...     ...           ...   \n",
      "360  07:50:00         24.8  ...             NaN       N          52.0   \n",
      "361  10:47:00         29.7  ...             1.0       N          46.0   \n",
      "362  14:10:00         18.6  ...             8.0     SSE          26.0   \n",
      "363  13:14:00         18.7  ...             7.0     WNW           9.0   \n",
      "364  15:18:00         21.3  ...             7.0       S          13.0   \n",
      "\n",
      "     9am 해수면 기압 (hPa)  3pm 기온 (°C)  3pm 상대 습도(%)  3pm 운량(oktas)  3pm 풍향  \\\n",
      "0              1004.9         26.9          51.0            3.0      SE   \n",
      "1              1010.0         23.2          50.0            3.0     SSW   \n",
      "2              1013.6         19.5          79.0            8.0     WNW   \n",
      "3              1010.2         25.9          54.0            6.0     SSE   \n",
      "4              1008.5         20.5          75.0            8.0       S   \n",
      "..                ...          ...           ...            ...     ...   \n",
      "360            1018.6         33.5          20.0            NaN       N   \n",
      "361            1013.3         38.8          15.0            1.0     NNW   \n",
      "362            1018.3         23.7          45.0            2.0       S   \n",
      "363            1016.1         26.5          49.0            1.0     SSE   \n",
      "364            1013.8         26.8          55.0            0.0       S   \n",
      "\n",
      "    3pm 풍속 (km/h)  3pm 해수면 기압 (hPa)  \n",
      "0            20.0            1003.6  \n",
      "1            15.0            1009.2  \n",
      "2             4.0            1012.9  \n",
      "3            19.0            1008.1  \n",
      "4            26.0            1007.3  \n",
      "..            ...               ...  \n",
      "360          26.0            1015.5  \n",
      "361          31.0            1008.2  \n",
      "362          30.0            1017.5  \n",
      "363          17.0            1013.0  \n",
      "364          19.0            1012.8  \n",
      "\n",
      "[365 rows x 21 columns]\n"
     ]
    }
   ],
   "source": [
    "df = pd.read_excel(\"../data/AU_weather.xlsx\", engine=\"openpyxl\", sheet_name=0, header=1)\n",
    "print(df.drop([\"요일\"], axis=1))"
   ]
  },
  {
   "cell_type": "code",
   "execution_count": 4,
   "id": "2a07eb20",
   "metadata": {
    "ExecuteTime": {
     "end_time": "2023-02-06T12:44:41.920349Z",
     "start_time": "2023-02-06T12:44:41.902427Z"
    }
   },
   "outputs": [
    {
     "data": {
      "text/plain": [
       "일자                    0\n",
       "요일                    0\n",
       "최저기온(°C)              0\n",
       "최고기온(°C)              0\n",
       "강우량 (mm)             70\n",
       "증발 (mm)               0\n",
       "일조 (시간)               0\n",
       "최대돌풍방향                3\n",
       "순간최대풍속                3\n",
       "최대돌풍시간                0\n",
       "9am 기온 (°C)           0\n",
       "9am 상대 습도 (%)         0\n",
       "9am 운량 (oktas)      139\n",
       "9am 풍향                0\n",
       "9am 풍속 (km/h)         6\n",
       "9am 해수면 기압 (hPa)      0\n",
       "3pm 기온 (°C)           1\n",
       "3pm 상대 습도(%)          2\n",
       "3pm 운량(oktas)       174\n",
       "3pm 풍향                0\n",
       "3pm 풍속 (km/h)         3\n",
       "3pm 해수면 기압 (hPa)      0\n",
       "dtype: int64"
      ]
     },
     "execution_count": 4,
     "metadata": {},
     "output_type": "execute_result"
    }
   ],
   "source": [
    "df.isna().sum()"
   ]
  },
  {
   "cell_type": "code",
   "execution_count": 5,
   "id": "2aa0389f",
   "metadata": {
    "ExecuteTime": {
     "end_time": "2023-02-06T12:44:42.605963Z",
     "start_time": "2023-02-06T12:44:42.577795Z"
    }
   },
   "outputs": [
    {
     "data": {
      "text/html": [
       "<div>\n",
       "<style scoped>\n",
       "    .dataframe tbody tr th:only-of-type {\n",
       "        vertical-align: middle;\n",
       "    }\n",
       "\n",
       "    .dataframe tbody tr th {\n",
       "        vertical-align: top;\n",
       "    }\n",
       "\n",
       "    .dataframe thead th {\n",
       "        text-align: right;\n",
       "    }\n",
       "</style>\n",
       "<table border=\"1\" class=\"dataframe\">\n",
       "  <thead>\n",
       "    <tr style=\"text-align: right;\">\n",
       "      <th></th>\n",
       "      <th>일자</th>\n",
       "      <th>요일</th>\n",
       "      <th>최저기온(°C)</th>\n",
       "      <th>최고기온(°C)</th>\n",
       "      <th>강우량 (mm)</th>\n",
       "      <th>증발 (mm)</th>\n",
       "      <th>일조 (시간)</th>\n",
       "      <th>최대돌풍방향</th>\n",
       "      <th>순간최대풍속</th>\n",
       "      <th>최대돌풍시간</th>\n",
       "      <th>...</th>\n",
       "      <th>9am 운량 (oktas)</th>\n",
       "      <th>9am 풍향</th>\n",
       "      <th>9am 풍속 (km/h)</th>\n",
       "      <th>9am 해수면 기압 (hPa)</th>\n",
       "      <th>3pm 기온 (°C)</th>\n",
       "      <th>3pm 상대 습도(%)</th>\n",
       "      <th>3pm 운량(oktas)</th>\n",
       "      <th>3pm 풍향</th>\n",
       "      <th>3pm 풍속 (km/h)</th>\n",
       "      <th>3pm 해수면 기압 (hPa)</th>\n",
       "    </tr>\n",
       "  </thead>\n",
       "  <tbody>\n",
       "    <tr>\n",
       "      <th>0</th>\n",
       "      <td>1/12/2014</td>\n",
       "      <td>Mo</td>\n",
       "      <td>21.1</td>\n",
       "      <td>29.3</td>\n",
       "      <td>0.4</td>\n",
       "      <td>13.2</td>\n",
       "      <td>8.9</td>\n",
       "      <td>N</td>\n",
       "      <td>76.0</td>\n",
       "      <td>02:40:00</td>\n",
       "      <td>...</td>\n",
       "      <td>7.0</td>\n",
       "      <td>NNW</td>\n",
       "      <td>30.0</td>\n",
       "      <td>1004.9</td>\n",
       "      <td>26.9</td>\n",
       "      <td>51.0</td>\n",
       "      <td>3.0</td>\n",
       "      <td>SE</td>\n",
       "      <td>20.0</td>\n",
       "      <td>1003.6</td>\n",
       "    </tr>\n",
       "    <tr>\n",
       "      <th>1</th>\n",
       "      <td>2/12/2014</td>\n",
       "      <td>Tu</td>\n",
       "      <td>16.7</td>\n",
       "      <td>26.1</td>\n",
       "      <td>0.2</td>\n",
       "      <td>7.6</td>\n",
       "      <td>11.2</td>\n",
       "      <td>SSE</td>\n",
       "      <td>41.0</td>\n",
       "      <td>14:40:00</td>\n",
       "      <td>...</td>\n",
       "      <td>6.0</td>\n",
       "      <td>Calm</td>\n",
       "      <td>NaN</td>\n",
       "      <td>1010.0</td>\n",
       "      <td>23.2</td>\n",
       "      <td>50.0</td>\n",
       "      <td>3.0</td>\n",
       "      <td>SSW</td>\n",
       "      <td>15.0</td>\n",
       "      <td>1009.2</td>\n",
       "    </tr>\n",
       "    <tr>\n",
       "      <th>2</th>\n",
       "      <td>3/12/2014</td>\n",
       "      <td>We</td>\n",
       "      <td>16.5</td>\n",
       "      <td>23.9</td>\n",
       "      <td>0.0</td>\n",
       "      <td>7.0</td>\n",
       "      <td>1.4</td>\n",
       "      <td>WSW</td>\n",
       "      <td>43.0</td>\n",
       "      <td>20:45:00</td>\n",
       "      <td>...</td>\n",
       "      <td>8.0</td>\n",
       "      <td>NW</td>\n",
       "      <td>7.0</td>\n",
       "      <td>1013.6</td>\n",
       "      <td>19.5</td>\n",
       "      <td>79.0</td>\n",
       "      <td>8.0</td>\n",
       "      <td>WNW</td>\n",
       "      <td>4.0</td>\n",
       "      <td>1012.9</td>\n",
       "    </tr>\n",
       "    <tr>\n",
       "      <th>3</th>\n",
       "      <td>4/12/2014</td>\n",
       "      <td>Th</td>\n",
       "      <td>17.6</td>\n",
       "      <td>27.7</td>\n",
       "      <td>9.2</td>\n",
       "      <td>1.8</td>\n",
       "      <td>11.8</td>\n",
       "      <td>SSE</td>\n",
       "      <td>35.0</td>\n",
       "      <td>13:10:00</td>\n",
       "      <td>...</td>\n",
       "      <td>7.0</td>\n",
       "      <td>SE</td>\n",
       "      <td>7.0</td>\n",
       "      <td>1010.2</td>\n",
       "      <td>25.9</td>\n",
       "      <td>54.0</td>\n",
       "      <td>6.0</td>\n",
       "      <td>SSE</td>\n",
       "      <td>19.0</td>\n",
       "      <td>1008.1</td>\n",
       "    </tr>\n",
       "    <tr>\n",
       "      <th>4</th>\n",
       "      <td>5/12/2014</td>\n",
       "      <td>Fr</td>\n",
       "      <td>17.7</td>\n",
       "      <td>21.4</td>\n",
       "      <td>0.0</td>\n",
       "      <td>6.6</td>\n",
       "      <td>0.1</td>\n",
       "      <td>S</td>\n",
       "      <td>35.0</td>\n",
       "      <td>14:26:00</td>\n",
       "      <td>...</td>\n",
       "      <td>8.0</td>\n",
       "      <td>SSW</td>\n",
       "      <td>15.0</td>\n",
       "      <td>1008.5</td>\n",
       "      <td>20.5</td>\n",
       "      <td>75.0</td>\n",
       "      <td>8.0</td>\n",
       "      <td>S</td>\n",
       "      <td>26.0</td>\n",
       "      <td>1007.3</td>\n",
       "    </tr>\n",
       "  </tbody>\n",
       "</table>\n",
       "<p>5 rows × 22 columns</p>\n",
       "</div>"
      ],
      "text/plain": [
       "          일자  요일  최저기온(°C)  최고기온(°C)  강우량 (mm)  증발 (mm)  일조 (시간) 최대돌풍방향  \\\n",
       "0  1/12/2014  Mo      21.1      29.3       0.4     13.2      8.9      N   \n",
       "1  2/12/2014  Tu      16.7      26.1       0.2      7.6     11.2    SSE   \n",
       "2  3/12/2014  We      16.5      23.9       0.0      7.0      1.4    WSW   \n",
       "3  4/12/2014  Th      17.6      27.7       9.2      1.8     11.8    SSE   \n",
       "4  5/12/2014  Fr      17.7      21.4       0.0      6.6      0.1      S   \n",
       "\n",
       "   순간최대풍속    최대돌풍시간  ...  9am 운량 (oktas)  9am 풍향  9am 풍속 (km/h)  \\\n",
       "0    76.0  02:40:00  ...             7.0     NNW           30.0   \n",
       "1    41.0  14:40:00  ...             6.0    Calm            NaN   \n",
       "2    43.0  20:45:00  ...             8.0      NW            7.0   \n",
       "3    35.0  13:10:00  ...             7.0      SE            7.0   \n",
       "4    35.0  14:26:00  ...             8.0     SSW           15.0   \n",
       "\n",
       "  9am 해수면 기압 (hPa)  3pm 기온 (°C)  3pm 상대 습도(%)  3pm 운량(oktas)  3pm 풍향  \\\n",
       "0           1004.9         26.9          51.0            3.0      SE   \n",
       "1           1010.0         23.2          50.0            3.0     SSW   \n",
       "2           1013.6         19.5          79.0            8.0     WNW   \n",
       "3           1010.2         25.9          54.0            6.0     SSE   \n",
       "4           1008.5         20.5          75.0            8.0       S   \n",
       "\n",
       "   3pm 풍속 (km/h) 3pm 해수면 기압 (hPa)  \n",
       "0           20.0           1003.6  \n",
       "1           15.0           1009.2  \n",
       "2            4.0           1012.9  \n",
       "3           19.0           1008.1  \n",
       "4           26.0           1007.3  \n",
       "\n",
       "[5 rows x 22 columns]"
      ]
     },
     "execution_count": 5,
     "metadata": {},
     "output_type": "execute_result"
    }
   ],
   "source": [
    "df.head()"
   ]
  },
  {
   "cell_type": "code",
   "execution_count": null,
   "id": "e5538c95",
   "metadata": {},
   "outputs": [],
   "source": []
  }
 ],
 "metadata": {
  "kernelspec": {
   "display_name": "Python 3 (ipykernel)",
   "language": "python",
   "name": "python3"
  },
  "language_info": {
   "codemirror_mode": {
    "name": "ipython",
    "version": 3
   },
   "file_extension": ".py",
   "mimetype": "text/x-python",
   "name": "python",
   "nbconvert_exporter": "python",
   "pygments_lexer": "ipython3",
   "version": "3.9.13"
  },
  "toc": {
   "base_numbering": 1,
   "nav_menu": {},
   "number_sections": true,
   "sideBar": true,
   "skip_h1_title": false,
   "title_cell": "Table of Contents",
   "title_sidebar": "Contents",
   "toc_cell": false,
   "toc_position": {
    "height": "calc(100% - 180px)",
    "left": "10px",
    "top": "150px",
    "width": "279.273px"
   },
   "toc_section_display": true,
   "toc_window_display": true
  },
  "varInspector": {
   "cols": {
    "lenName": 16,
    "lenType": 16,
    "lenVar": 40
   },
   "kernels_config": {
    "python": {
     "delete_cmd_postfix": "",
     "delete_cmd_prefix": "del ",
     "library": "var_list.py",
     "varRefreshCmd": "print(var_dic_list())"
    },
    "r": {
     "delete_cmd_postfix": ") ",
     "delete_cmd_prefix": "rm(",
     "library": "var_list.r",
     "varRefreshCmd": "cat(var_dic_list()) "
    }
   },
   "types_to_exclude": [
    "module",
    "function",
    "builtin_function_or_method",
    "instance",
    "_Feature"
   ],
   "window_display": false
  }
 },
 "nbformat": 4,
 "nbformat_minor": 5
}
