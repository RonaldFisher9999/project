{
 "cells": [
  {
   "cell_type": "code",
   "execution_count": null,
   "id": "748aae12",
   "metadata": {
    "ExecuteTime": {
     "end_time": "2023-02-05T14:14:56.011493Z",
     "start_time": "2023-02-05T14:14:53.109160Z"
    }
   },
   "outputs": [],
   "source": [
    "# pip install requests\n",
    "# pip install bs4\n",
    "# pip install html_table_parser\n",
    "# pip install numpy\n",
    "# pip install pandas\n",
    "# pip install openpyxl"
   ]
  },
  {
   "cell_type": "code",
   "execution_count": 1,
   "id": "4a60f8c4",
   "metadata": {
    "ExecuteTime": {
     "end_time": "2023-02-05T15:20:04.966478Z",
     "start_time": "2023-02-05T15:20:04.660250Z"
    }
   },
   "outputs": [],
   "source": [
    "import numpy as np\n",
    "import pandas as pd"
   ]
  },
  {
   "cell_type": "code",
   "execution_count": 11,
   "id": "51dc8eba",
   "metadata": {
    "ExecuteTime": {
     "end_time": "2023-02-05T15:23:46.958312Z",
     "start_time": "2023-02-05T15:23:46.836798Z"
    }
   },
   "outputs": [
    {
     "name": "stdout",
     "output_type": "stream",
     "text": [
      "            일자  최저기온(°C)  최고기온(°C)  강우량 (mm)  증발 (mm)  일조 (시간) 최대돌풍방향  순간최대풍속  \\\n",
      "0    1/12/2014      21.1      29.3       0.4     13.2      8.9      N    76.0   \n",
      "1    2/12/2014      16.7      26.1       0.2      7.6     11.2    SSE    41.0   \n",
      "2    3/12/2014      16.5      23.9       0.0      7.0      1.4    WSW    43.0   \n",
      "3    4/12/2014      17.6      27.7       9.2      1.8     11.8    SSE    35.0   \n",
      "4    5/12/2014      17.7      21.4       0.0      6.6      0.1      S    35.0   \n",
      "..         ...       ...       ...       ...      ...      ...    ...     ...   \n",
      "360  27/1/2014      16.9      35.3       NaN      8.0     13.4      N    69.0   \n",
      "361  28/1/2014      24.5      42.0       NaN     20.0     12.9      N    70.0   \n",
      "362  29/1/2014      18.4      25.1       4.6     16.8      7.7    SSW    46.0   \n",
      "363  30/1/2014      16.0      30.0       0.0      6.8     10.5      S    31.0   \n",
      "364  31/1/2014      18.6      27.0       0.0      7.2     10.8      S    35.0   \n",
      "\n",
      "       최대돌풍시간  9am 기온 (°C)  ...  9am 운량 (oktas)  9am 풍향 9am 풍속 (km/h)  \\\n",
      "0    02:40:00         25.6  ...             7.0     NNW          30.0   \n",
      "1    14:40:00         19.1  ...             6.0    Calm           NaN   \n",
      "2    20:45:00         18.3  ...             8.0      NW           7.0   \n",
      "3    13:10:00         20.8  ...             7.0      SE           7.0   \n",
      "4    14:26:00         19.3  ...             8.0     SSW          15.0   \n",
      "..        ...          ...  ...             ...     ...           ...   \n",
      "360  07:50:00         24.8  ...             NaN       N          52.0   \n",
      "361  10:47:00         29.7  ...             1.0       N          46.0   \n",
      "362  14:10:00         18.6  ...             8.0     SSE          26.0   \n",
      "363  13:14:00         18.7  ...             7.0     WNW           9.0   \n",
      "364  15:18:00         21.3  ...             7.0       S          13.0   \n",
      "\n",
      "     9am 해수면 기압 (hPa)  3pm 기온 (°C)  3pm 상대 습도(%)  3pm 운량(oktas)  3pm 풍향  \\\n",
      "0              1004.9         26.9          51.0            3.0      SE   \n",
      "1              1010.0         23.2          50.0            3.0     SSW   \n",
      "2              1013.6         19.5          79.0            8.0     WNW   \n",
      "3              1010.2         25.9          54.0            6.0     SSE   \n",
      "4              1008.5         20.5          75.0            8.0       S   \n",
      "..                ...          ...           ...            ...     ...   \n",
      "360            1018.6         33.5          20.0            NaN       N   \n",
      "361            1013.3         38.8          15.0            1.0     NNW   \n",
      "362            1018.3         23.7          45.0            2.0       S   \n",
      "363            1016.1         26.5          49.0            1.0     SSE   \n",
      "364            1013.8         26.8          55.0            0.0       S   \n",
      "\n",
      "    3pm 풍속 (km/h)  3pm 해수면 기압 (hPa)  \n",
      "0            20.0            1003.6  \n",
      "1            15.0            1009.2  \n",
      "2             4.0            1012.9  \n",
      "3            19.0            1008.1  \n",
      "4            26.0            1007.3  \n",
      "..            ...               ...  \n",
      "360          26.0            1015.5  \n",
      "361          31.0            1008.2  \n",
      "362          30.0            1017.5  \n",
      "363          17.0            1013.0  \n",
      "364          19.0            1012.8  \n",
      "\n",
      "[365 rows x 21 columns]\n"
     ]
    }
   ],
   "source": [
    "df = pd.read_excel(\"../data/AU_weather.xlsx\", engine=\"openpyxl\", sheet_name=0, header=1)\n",
    "print(df.drop([\"요일\"], axis=1))"
   ]
  },
  {
   "cell_type": "code",
   "execution_count": 14,
   "id": "2a07eb20",
   "metadata": {
    "ExecuteTime": {
     "end_time": "2023-02-05T15:25:12.235857Z",
     "start_time": "2023-02-05T15:25:12.226133Z"
    }
   },
   "outputs": [
    {
     "data": {
      "text/plain": [
       "일자                    0\n",
       "요일                    0\n",
       "최저기온(°C)              0\n",
       "최고기온(°C)              0\n",
       "강우량 (mm)             70\n",
       "증발 (mm)               0\n",
       "일조 (시간)               0\n",
       "최대돌풍방향                3\n",
       "순간최대풍속                3\n",
       "최대돌풍시간                0\n",
       "9am 기온 (°C)           0\n",
       "9am 상대 습도 (%)         0\n",
       "9am 운량 (oktas)      139\n",
       "9am 풍향                0\n",
       "9am 풍속 (km/h)         6\n",
       "9am 해수면 기압 (hPa)      0\n",
       "3pm 기온 (°C)           1\n",
       "3pm 상대 습도(%)          2\n",
       "3pm 운량(oktas)       174\n",
       "3pm 풍향                0\n",
       "3pm 풍속 (km/h)         3\n",
       "3pm 해수면 기압 (hPa)      0\n",
       "dtype: int64"
      ]
     },
     "execution_count": 14,
     "metadata": {},
     "output_type": "execute_result"
    }
   ],
   "source": [
    "df.isna().sum()"
   ]
  },
  {
   "cell_type": "code",
   "execution_count": null,
   "id": "2aa0389f",
   "metadata": {},
   "outputs": [],
   "source": []
  }
 ],
 "metadata": {
  "kernelspec": {
   "display_name": "Python 3 (ipykernel)",
   "language": "python",
   "name": "python3"
  },
  "language_info": {
   "codemirror_mode": {
    "name": "ipython",
    "version": 3
   },
   "file_extension": ".py",
   "mimetype": "text/x-python",
   "name": "python",
   "nbconvert_exporter": "python",
   "pygments_lexer": "ipython3",
   "version": "3.9.13"
  },
  "toc": {
   "base_numbering": 1,
   "nav_menu": {},
   "number_sections": true,
   "sideBar": true,
   "skip_h1_title": false,
   "title_cell": "Table of Contents",
   "title_sidebar": "Contents",
   "toc_cell": false,
   "toc_position": {},
   "toc_section_display": true,
   "toc_window_display": false
  },
  "varInspector": {
   "cols": {
    "lenName": 16,
    "lenType": 16,
    "lenVar": 40
   },
   "kernels_config": {
    "python": {
     "delete_cmd_postfix": "",
     "delete_cmd_prefix": "del ",
     "library": "var_list.py",
     "varRefreshCmd": "print(var_dic_list())"
    },
    "r": {
     "delete_cmd_postfix": ") ",
     "delete_cmd_prefix": "rm(",
     "library": "var_list.r",
     "varRefreshCmd": "cat(var_dic_list()) "
    }
   },
   "types_to_exclude": [
    "module",
    "function",
    "builtin_function_or_method",
    "instance",
    "_Feature"
   ],
   "window_display": false
  }
 },
 "nbformat": 4,
 "nbformat_minor": 5
}
